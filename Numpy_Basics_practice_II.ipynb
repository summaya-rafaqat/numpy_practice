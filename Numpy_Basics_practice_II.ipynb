{
 "cells": [
  {
   "cell_type": "markdown",
   "metadata": {
    "id": "YmwKgUrAkbfG"
   },
   "source": [
    "# Numpy Basics Exercises\n",
    "\n",
    "Please complete the following exercises **using numpy only**."
   ]
  },
  {
   "cell_type": "markdown",
   "metadata": {
    "id": "oWtZzrvXjxVl"
   },
   "source": [
    "# Array Broadcasting\n",
    "NumPy arrays of different dimensionality can be combined in the same expression. Arrays with smaller dimension are broadcasted to match the larger arrays, without copying data.\n",
    "\n",
    "Broadcasting has two rules.\n",
    "\n",
    "RULE 1: PREPEND ONES TO SMALLER ARRAY'S SHAPE\n",
    "\n",
    "RULE 2: DIMENSIONS OF SIZE 1 ARE REPEATED WITHOUT COPYING"
   ]
  },
  {
   "cell_type": "code",
   "execution_count": 3,
   "metadata": {
    "id": "7vrTvmEWjwtY"
   },
   "outputs": [
    {
     "name": "stdout",
     "output_type": "stream",
     "text": [
      "[[ 0  2  4]\n",
      " [ 3  5  7]\n",
      " [ 6  8 10]\n",
      " [ 9 11 13]]\n"
     ]
    }
   ],
   "source": [
    "# Answer here\n",
    "import numpy as np\n",
    "\n",
    "a = np.arange(12).reshape(4, 3)\n",
    "b = np.arange(3).reshape(1, 3)\n",
    "\n",
    "\n",
    "\n",
    "print(a+b)"
   ]
  },
  {
   "cell_type": "markdown",
   "metadata": {
    "id": "Qp9UkMByj5Il"
   },
   "source": [
    "1.Use reduce() operation on an array to reduec it into a single meaningful value. You. can also use a specific axis to apply reduce operation.\n",
    "\n",
    "2.accumulate() creates a new array containing the intermediate results of the reduce operation at each element in a.\n"
   ]
  },
  {
   "cell_type": "code",
   "execution_count": 13,
   "metadata": {
    "id": "nmLsvmTZj626"
   },
   "outputs": [
    {
     "name": "stdout",
     "output_type": "stream",
     "text": [
      "reduce function:  15\n",
      "accomulate:  [ 1  3  6 10 15]\n"
     ]
    }
   ],
   "source": [
    "# Answer here\n",
    "a= np.array([1,2,3,4,5])\n",
    "print(\"reduce function: \" ,np.add.reduce(a))\n",
    "\n",
    "print(\"accomulate: \",np.add.accumulate(a))"
   ]
  },
  {
   "cell_type": "markdown",
   "metadata": {
    "id": "Oork_pTdXsin"
   },
   "source": [
    "### Create a 2-D array where the first row goes from 10 to 80 exclusive with steps of 5 and 2nd row goes from 5 to 47 exclusive with steps of 3"
   ]
  },
  {
   "cell_type": "code",
   "execution_count": 23,
   "metadata": {
    "id": "JJs0sRQ7YKgF"
   },
   "outputs": [
    {
     "name": "stdout",
     "output_type": "stream",
     "text": [
      "[[10 15 20 25 30 35 40 45 50 55 60 65 70 75]\n",
      " [ 5  8 11 14 17 20 23 26 29 32 35 38 41 44]]\n"
     ]
    }
   ],
   "source": [
    "# Answer here\n",
    "row1= np.arange(10,80,5)\n",
    "row2= np.arange(5,47,3)\n",
    "\n",
    "array = np.array([row1,row2])\n",
    "\n",
    "print(array)\n"
   ]
  },
  {
   "cell_type": "markdown",
   "metadata": {
    "id": "eBGU-aEqYM16"
   },
   "source": [
    "### Now use indexing to select the 5th 7th and 11th columns"
   ]
  },
  {
   "cell_type": "code",
   "execution_count": 37,
   "metadata": {
    "id": "-xAT9OukYNKx"
   },
   "outputs": [
    {
     "name": "stdout",
     "output_type": "stream",
     "text": [
      "values:  [[30 40 60]\n",
      " [17 23 35]]\n"
     ]
    }
   ],
   "source": [
    "# Answer here\n",
    "print(\"values: \", array[:,[4,6,10]])"
   ]
  },
  {
   "cell_type": "markdown",
   "metadata": {
    "id": "wu3J-12UZl2I"
   },
   "source": [
    "### Select the 2nd row and fourth-last to second-last columns"
   ]
  },
  {
   "cell_type": "code",
   "execution_count": 43,
   "metadata": {
    "id": "YPAaA_BKZl-N"
   },
   "outputs": [
    {
     "name": "stdout",
     "output_type": "stream",
     "text": [
      "[[35 38 41]]\n"
     ]
    }
   ],
   "source": [
    "#Answer here\n",
    "print(array[1: ,10:13])"
   ]
  },
  {
   "cell_type": "markdown",
   "metadata": {
    "id": "kCgDP3J_ZmF8"
   },
   "source": [
    "### Select 3rd to 3rd last columns skipping every second column"
   ]
  },
  {
   "cell_type": "code",
   "execution_count": 53,
   "metadata": {
    "id": "YqRY90S0ZmNW"
   },
   "outputs": [
    {
     "name": "stdout",
     "output_type": "stream",
     "text": [
      "[[20 30 40 50 60]\n",
      " [11 17 23 29 35]]\n"
     ]
    }
   ],
   "source": [
    "# Answer here\n",
    "print(array[:, 2:-2:2])"
   ]
  },
  {
   "cell_type": "markdown",
   "metadata": {
    "id": "x21_4u7SZmUx"
   },
   "source": [
    "###  Select 3rd to 3rd last columns skipping every second column but in reverse order"
   ]
  },
  {
   "cell_type": "code",
   "execution_count": 61,
   "metadata": {
    "id": "oEQws0mAZmcU"
   },
   "outputs": [
    {
     "name": "stdout",
     "output_type": "stream",
     "text": [
      "[[65 55 45 35 25]\n",
      " [38 32 26 20 14]]\n"
     ]
    }
   ],
   "source": [
    "# Answer here\n",
    "print(array[:, -3:2:-2])"
   ]
  },
  {
   "cell_type": "markdown",
   "metadata": {
    "id": "bqVyb4DKZmkR"
   },
   "source": [
    "### We will work with the following array:"
   ]
  },
  {
   "cell_type": "code",
   "execution_count": 7,
   "metadata": {
    "colab": {
     "base_uri": "https://localhost:8080/"
    },
    "id": "Iz86eeTWZmsK",
    "outputId": "657f8c8d-0a3b-44b8-e0fe-6de9614c11c1"
   },
   "outputs": [
    {
     "data": {
      "text/plain": [
       "array([[ 0,  1,  2,  3,  4],\n",
       "       [ 5,  6,  7,  8,  9],\n",
       "       [10, 11, 12, 13, 14],\n",
       "       [15, 16, 17, 18, 19],\n",
       "       [20, 21, 22, 23, 24]])"
      ]
     },
     "execution_count": 7,
     "metadata": {},
     "output_type": "execute_result"
    }
   ],
   "source": [
    "a = np.arange(25).reshape(5, 5)\n",
    "a"
   ]
  },
  {
   "cell_type": "markdown",
   "metadata": {
    "id": "OdjK0hqobWGp"
   },
   "source": [
    "### Use slicing only to select 3rd and last row along with 2nd and last columns"
   ]
  },
  {
   "cell_type": "code",
   "execution_count": 81,
   "metadata": {
    "id": "-iw2ciaibUHU"
   },
   "outputs": [
    {
     "name": "stdout",
     "output_type": "stream",
     "text": [
      "[[11 14]\n",
      " [21 24]]\n"
     ]
    }
   ],
   "source": [
    "# Answer here\n",
    "print(a[2::2, 1::3])"
   ]
  },
  {
   "cell_type": "markdown",
   "metadata": {
    "id": "5PtInLvEb7Am"
   },
   "source": [
    "### Extract the following sub-array: [[2, 3], [12, 13], [22, 23]]"
   ]
  },
  {
   "cell_type": "code",
   "execution_count": 93,
   "metadata": {
    "id": "lVi9eV2rb6hz"
   },
   "outputs": [
    {
     "name": "stdout",
     "output_type": "stream",
     "text": [
      "[[ 2  3]\n",
      " [12 13]\n",
      " [22 23]]\n"
     ]
    }
   ],
   "source": [
    "# Answer here\n",
    "b=a[::2, [2,3]]\n",
    "print(b)\n"
   ]
  },
  {
   "cell_type": "markdown",
   "metadata": {
    "id": "mHN-ADlNcRE7"
   },
   "source": [
    "### Combine fancy/location indexing with slicing to extract the following sub-array: [[6, 8], [16, 18], [21, 23]]"
   ]
  },
  {
   "cell_type": "code",
   "execution_count": 109,
   "metadata": {
    "id": "e_R0tbMHcNGy",
    "scrolled": true
   },
   "outputs": [
    {
     "name": "stdout",
     "output_type": "stream",
     "text": [
      "[[ 6  8]\n",
      " [16 18]\n",
      " [21 23]]\n"
     ]
    }
   ],
   "source": [
    "# Answer here\n",
    "b=a[1:, 1::2]\n",
    "\n",
    "b=b[[0,2,3]]\n",
    "print(b)"
   ]
  },
  {
   "cell_type": "markdown",
   "metadata": {
    "id": "gRle44JLc8oL"
   },
   "source": [
    "### Change the values 1, 10, 19 and 22 in the array to -2"
   ]
  },
  {
   "cell_type": "code",
   "execution_count": 202,
   "metadata": {
    "id": "MnIs-SBzdMPv"
   },
   "outputs": [
    {
     "name": "stdout",
     "output_type": "stream",
     "text": [
      "[[ 0 -2  2  3  4]\n",
      " [ 5  6  7  8  9]\n",
      " [-2 11 12 13 14]\n",
      " [15 16 17 18 -2]\n",
      " [20 21 -2 23 24]]\n"
     ]
    }
   ],
   "source": [
    "# Answer\n",
    "indices = [(0, 1), (2, 0), (3, 4), (4, 2)]\n",
    "for row, col in indices:\n",
    "    a[row, col] = -2\n",
    "\n",
    "print(a)"
   ]
  },
  {
   "cell_type": "markdown",
   "metadata": {
    "id": "tWSQO5e3dZxf"
   },
   "source": [
    "### Repeat above using boolean indexing"
   ]
  },
  {
   "cell_type": "code",
   "execution_count": 156,
   "metadata": {
    "id": "zytB7nrMdYfT"
   },
   "outputs": [
    {
     "name": "stdout",
     "output_type": "stream",
     "text": [
      "[[ 0 -2  2  3  4]\n",
      " [ 5  6  7  8  9]\n",
      " [-2 11 12 13 14]\n",
      " [15 16 17 18 -2]\n",
      " [20 21 -2 23 24]]\n"
     ]
    }
   ],
   "source": [
    "# Answer here\n",
    "mask=np.array([[0,1,0,0,0],\n",
    "              [0,0,0,0,0],\n",
    "              [1,0,0,0,0],\n",
    "              [0,0,0,0,1],\n",
    "              [0,0,1,0,0]],dtype=bool)\n",
    "a[mask]=-2\n",
    "\n",
    "print(a)"
   ]
  },
  {
   "cell_type": "markdown",
   "metadata": {
    "id": "2i_7lkqpdhtx"
   },
   "source": [
    "### Combine slicing in the column dimension and boolean indexing in row dimension to extract the following sub-array: [[0, 3], [10, 13], [15, 18]]"
   ]
  },
  {
   "cell_type": "code",
   "execution_count": 7,
   "metadata": {
    "id": "O8683ef2dYng"
   },
   "outputs": [
    {
     "name": "stdout",
     "output_type": "stream",
     "text": [
      "[ 0  3 10 13 15 18]\n"
     ]
    }
   ],
   "source": [
    "# Answer here\n",
    "a = np.arange(25).reshape(5, 5)\n",
    "\n",
    "b=a[:,::3]\n",
    "mask=np.array([\n",
    "    [1,1],\n",
    "    [0,0],\n",
    "    [1,1],\n",
    "    [1,1],\n",
    "    [0,0]],dtype=bool)\n",
    "b=b[mask]\n",
    "print(b)\n"
   ]
  },
  {
   "cell_type": "markdown",
   "metadata": {
    "id": "BLH29N-KLDEJ"
   },
   "source": [
    "### Calculating the sum, min and max of all diagonal values"
   ]
  },
  {
   "cell_type": "code",
   "execution_count": 21,
   "metadata": {
    "id": "ARzj6VP9LCPz"
   },
   "outputs": [
    {
     "name": "stdout",
     "output_type": "stream",
     "text": [
      "array:  [ 0  4  6  8 12 16 18 20 24]\n",
      "minimum:  0\n",
      "maximum:  24\n",
      "sum:  108\n"
     ]
    }
   ],
   "source": [
    "# Answer here\n",
    "mask=np.array([[1,0,0,0,1],\n",
    "              [0,1,0,1,0],\n",
    "              [0,0,1,0,0],\n",
    "              [0,1,0,1,0],\n",
    "              [1,0,0,0,1]],dtype=bool)\n",
    "b=a[mask]\n",
    "\n",
    "min=b.min()\n",
    "max=b.max()\n",
    "sum=b.sum()\n",
    "\n",
    "print(\"array: \",b)\n",
    "print(\"minimum: \",min)\n",
    "print(\"maximum: \",max)\n",
    "print(\"sum: \",sum)"
   ]
  },
  {
   "cell_type": "markdown",
   "metadata": {
    "id": "IIL3aHfpMQpr"
   },
   "source": [
    "### Calculate the sum of differences between the 2nd row and 2nd last column"
   ]
  },
  {
   "cell_type": "code",
   "execution_count": 176,
   "metadata": {
    "id": "mNyxI8d0Mcvz"
   },
   "outputs": [
    {
     "name": "stdout",
     "output_type": "stream",
     "text": [
      "subtract of row and column:  [  2  -2  -6 -10 -14]\n",
      "\n",
      "sum:  -30\n"
     ]
    }
   ],
   "source": [
    "# Answer here\n",
    "b=np.subtract(a[1, :],a[:, 3])\n",
    "print(\"subtract of row and column: \",b)\n",
    "print(\"\\nsum: \", b.sum())"
   ]
  },
  {
   "cell_type": "markdown",
   "metadata": {
    "id": "jEo7E6YNNIU5"
   },
   "source": [
    "### Create a new array that is the sum of even rows and odd rows"
   ]
  },
  {
   "cell_type": "code",
   "execution_count": 200,
   "metadata": {
    "id": "UEwbxwAPNikT"
   },
   "outputs": [
    {
     "name": "stdout",
     "output_type": "stream",
     "text": [
      "array:  [180 120]\n"
     ]
    }
   ],
   "source": [
    "# Answer here\n",
    "array=np.array([np.sum(a[::2,:]),np.sum(a[1::2,:])])\n",
    "print(\"array: \",array)"
   ]
  },
  {
   "cell_type": "markdown",
   "metadata": {
    "id": "TaKXFf_5d67q"
   },
   "source": [
    "## You are done. Good job!"
   ]
  },
  {
   "cell_type": "code",
   "execution_count": null,
   "metadata": {},
   "outputs": [],
   "source": []
  },
  {
   "cell_type": "code",
   "execution_count": null,
   "metadata": {},
   "outputs": [],
   "source": []
  }
 ],
 "metadata": {
  "colab": {
   "provenance": []
  },
  "kernelspec": {
   "display_name": "Python 3 (ipykernel)",
   "language": "python",
   "name": "python3"
  },
  "language_info": {
   "codemirror_mode": {
    "name": "ipython",
    "version": 3
   },
   "file_extension": ".py",
   "mimetype": "text/x-python",
   "name": "python",
   "nbconvert_exporter": "python",
   "pygments_lexer": "ipython3",
   "version": "3.12.4"
  }
 },
 "nbformat": 4,
 "nbformat_minor": 4
}
