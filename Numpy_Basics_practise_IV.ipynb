{
 "cells": [
  {
   "cell_type": "code",
   "execution_count": 46,
   "metadata": {
    "id": "qQxFQvrEEKqm"
   },
   "outputs": [],
   "source": [
    "import numpy as np"
   ]
  },
  {
   "cell_type": "code",
   "execution_count": null,
   "metadata": {
    "colab": {
     "base_uri": "https://localhost:8080/"
    },
    "id": "n_ncJAFDEbs1",
    "outputId": "a09be9aa-5efa-45c6-b212-e9ebec9db71a"
   },
   "outputs": [
    {
     "name": "stdout",
     "output_type": "stream",
     "text": [
      "Mounted at /content/drive\n"
     ]
    }
   ],
   "source": [
    "from google.colab import drive\n",
    "drive.mount('/content/drive')"
   ]
  },
  {
   "cell_type": "markdown",
   "metadata": {
    "id": "5dL78wl-ElhS"
   },
   "source": [
    "# Q.1\n",
    "**Statement:** You are working with a retail store that needs to manage its inventory efficiently. They have provided you with a dataset containing information about products, their quantities in stock, and the number of units sold daily for the past week. Total number of products are 5. Your task is to calculate the following:\n",
    "\n",
    "\n",
    "\n",
    "1.The total sales for each product over the past week.\n",
    "\n",
    "2.The average daily sales for each product.\n",
    "\n",
    "3.The product with the highest sales.\n",
    "\n",
    "4.The product with the lowest sales.\n",
    "\n",
    "5.The total sales for all products combined.\n",
    "\n",
    "You are required to use NumPy for efficient data processing and calculations. Write code to solve this inventory management problem."
   ]
  },
  {
   "cell_type": "code",
   "execution_count": 48,
   "metadata": {
    "id": "DxtXsLXRVpdW"
   },
   "outputs": [
    {
     "name": "stdout",
     "output_type": "stream",
     "text": [
      "total sales:  [175  72 205 204 210]\n",
      "average sales:  [25.         10.28571429 29.28571429 29.14285714 30.        ]\n",
      "highest sales is of:  Product E\n",
      "lowest sales is of:  Product B\n",
      "revenue:  866\n"
     ]
    }
   ],
   "source": [
    "import numpy as np\n",
    "\n",
    "# Sample data (replace with your actual data)\n",
    "product_names = np.array(['Product A', 'Product B', 'Product C', 'Product D', 'Product E'])\n",
    "quantities_in_stock = np.array([100, 150, 200, 250, 50])\n",
    "\n",
    "daily_sales_data = np.array([[10, 15, 20, 25, 30, 35, 40],\n",
    "                             [5, 7, 8, 10, 12, 14, 16],\n",
    "                             [15, 20, 25, 30, 35, 40, 40],\n",
    "                             [12, 25, 20, 40, 20, 32, 55],\n",
    "                             [15, 20, 25, 30, 35, 40, 45]])\n",
    "\n",
    "# Calculate total sales revenue for each product over the past week\n",
    "print(\"total sales: \", daily_sales_data.sum(axis=1))\n",
    "\n",
    "# Calculate average daily sales for each product\n",
    "\n",
    "print(\"average sales: \",np.average(daily_sales_data,axis=1))\n",
    "# Find the product with the highest and lowest sales\n",
    "\n",
    "print(\"highest sales is of: \", product_names[np.argmax(np.sum(daily_sales_data,axis=1))])\n",
    "print(\"lowest sales is of: \", product_names[np.argmin(np.sum(daily_sales_data,axis=1))])\n",
    "\n",
    "\n",
    "# Calculate the total sales revenue for all products combined\n",
    "\n",
    "print(\"revenue: \",daily_sales_data.sum())"
   ]
  },
  {
   "cell_type": "markdown",
   "metadata": {
    "id": "ICk1qoQHVwDc"
   },
   "source": [
    "# Q.2\n",
    "**Statement:** Statement: You are working with a manufacturing plant that produces various components. They have provided you with data on the production rates of five different machines over the past month. Your task is to analyze the performance of these machines by calculating the following metrics:\n",
    "\n",
    "1.The total production output for each machine over the past month.\n",
    "\n",
    "2.The average daily production rate for each machine.\n",
    "\n",
    "3.The machine with the highest total production output.\n",
    "\n",
    "4.The machine with the lowest total production output.\n",
    "\n",
    "The overall production efficiency of the plant, which is defined as the ratio of the total production output to the total number of hours worked, and working hour for each day is 2 hours."
   ]
  },
  {
   "cell_type": "code",
   "execution_count": 61,
   "metadata": {
    "id": "lIu6pfmgbUQd"
   },
   "outputs": [
    {
     "name": "stdout",
     "output_type": "stream",
     "text": [
      "total production:  [4498 4212 4442 4589 4459]\n",
      "average production:  [149.93333333 140.4        148.06666667 152.96666667 148.63333333]\n",
      "highest production:  machine D\n",
      "lowest production:  machine B\n",
      "over all production:  22200\n"
     ]
    }
   ],
   "source": [
    "\n",
    "\n",
    "# Sample data (replace with your actual data)\n",
    "machine_names = np.array(['machine A', 'machine B', 'machine C', 'machine D', 'machine E'])\n",
    "\n",
    "\n",
    "# Generate random production rates between 100 and 200 for 5 machines and 30 days\n",
    "\n",
    "production_rates=np.random.randint(100,201,size=(5,30))\n",
    "\n",
    "# Calculate total production output for each machine over the past month\n",
    "print(\"total production: \",np.sum(production_rates,axis=1))\n",
    "\n",
    "# Calculate average daily production rate for each machine\n",
    "print(\"average production: \",np.average(production_rates,axis=1))\n",
    "\n",
    "\n",
    "# Find the machine with the highest and lowest total production output\n",
    "\n",
    "print(\"highest production: \", machine_names [np.argmax(np.sum(production_rates,axis=1))])\n",
    "print(\"lowest production: \", machine_names [np.argmin(np.sum(production_rates,axis=1))])\n",
    "\n",
    "# Calculate the overall production efficiency of the plant\n",
    "print(\"over all production: \",np.sum(production_rates))\n"
   ]
  },
  {
   "cell_type": "markdown",
   "metadata": {
    "id": "Ayc9TG-vff7A"
   },
   "source": [
    "# Q3:\n",
    "\n",
    "**Statment**\n",
    "You are working on a project that involves simulating sensor data for a network of 10 sensors over a period of 15 days. Each sensor collects data once per hour. Your task is to generate a NumPy array named sensor_data to represent this simulated sensor data and perform following statistical analysis on it.\n",
    "\n",
    "Populate the sensor_data array with random floating-point values between 0.0 and 100.0\n",
    "The generated values should represent sensor readings collected once per hour.\n",
    "\n",
    "After generating the sensor_data array, perform the following statistical **calculations:**\n",
    "\n",
    "1.Calculate the mean (average) sensor reading for each sensor over the 15 days.\n",
    "\n",
    "2.Calculate the standard deviation of sensor readings for each sensor.\n",
    "\n",
    "3.Calculate the maximum sensor reading for each sensor.\n",
    "\n",
    "4.Calculate the minimum sensor reading for each sensor.\n",
    "\n",
    "5.Calculate the overall mean sensor reading for all sensors and all days.\n",
    "\n",
    "6.Calculate the overall standard deviation of sensor readings for all sensors an"
   ]
  },
  {
   "cell_type": "code",
   "execution_count": 95,
   "metadata": {
    "id": "TWSK9GA1gfz0"
   },
   "outputs": [
    {
     "name": "stdout",
     "output_type": "stream",
     "text": [
      "mean of each sensor:  [53.87554555 48.09777336 48.48292274 49.76260039 48.90812558 53.05395286\n",
      " 48.79185368 50.10494693 52.59205881 50.08590733]\n",
      "\n",
      "standard deviation of each sensor:  [28.81116079 29.40260708 28.28277436 28.10742684 28.89255558 29.24535653\n",
      " 28.13994512 28.92533833 29.23976778 29.13692083]\n",
      "\n",
      "maximum reading of each sensor:  [99.94303987 99.67598317 99.90460865 99.93774891 99.85029626 99.78957287\n",
      " 99.95199812 99.98568178 99.87112558 99.91337868]\n",
      "\n",
      "minimum reading of each sensor:  [0.17663203 0.20594922 0.00441863 0.01063265 0.07423553 0.00862099\n",
      " 0.06650199 0.44719225 0.11304147 0.04115832]\n",
      "\n",
      "overall mean of sensor:  50.37556872348362\n",
      "\n",
      "overall standard deviation of sensor:  28.888348636927393\n"
     ]
    }
   ],
   "source": [
    "import numpy as np\n",
    "\n",
    "# Data Generation Requirements\n",
    "num_sensors = 10\n",
    "num_days = 15\n",
    "hours_per_day = 24\n",
    "shape = (num_sensors, num_days * hours_per_day)\n",
    "\n",
    "sensor_data=np.random.uniform(0.0,100.0,shape)\n",
    "\n",
    "print(\"mean of each sensor: \",np.mean(sensor_data,axis=1))\n",
    "print(\"\\nstandard deviation of each sensor: \",np.std(sensor_data,axis=1))\n",
    "print(\"\\nmaximum reading of each sensor: \",np.max(sensor_data,axis=1))\n",
    "print(\"\\nminimum reading of each sensor: \",np.min(sensor_data,axis=1))\n",
    "\n",
    "print(\"\\noverall mean of sensor: \",np.mean(sensor_data))\n",
    "\n",
    "print(\"\\noverall standard deviation of sensor: \",np.std(sensor_data))\n",
    "\n",
    "\n"
   ]
  },
  {
   "cell_type": "markdown",
   "metadata": {
    "id": "IShr0NSyhcEc"
   },
   "source": [
    "# Q4:\n",
    "\n",
    "**Statement**: You are tasked with analyzing the exam scores of 30 students in a class over a period of 10 exams. The exam scores are represented as a NumPy, where each row corresponds to a different student, and each column represents their score in a specific exam.\n",
    "\n",
    "Populate the exam_scores array with random integer values between 50 and 100 to simulate students' exam performance.\n",
    "\n",
    "After generating the exam_scores array, perform the following tasks:\n",
    "\n",
    "1.Calculate the average score for each student over the 10 exams.\n",
    "\n",
    "2.Calculate the standard deviation of scores for each student.\n",
    "\n",
    "3.Identify students who have consistently performed well, defined as those whose average score is above 85.\n",
    "\n",
    "4.Identify students who may need additional support, defined as those whose average score is below 50.\n",
    "\n",
    "Write code to create and populate the exam_scores array and then perform the specified statistical analysis and performance evaluation tasks on the data.\n",
    "\n",
    "\n",
    "\n"
   ]
  },
  {
   "cell_type": "code",
   "execution_count": 119,
   "metadata": {
    "id": "F3p_SMeoiT2o"
   },
   "outputs": [
    {
     "name": "stdout",
     "output_type": "stream",
     "text": [
      "aeverage score of each student:  [71.55 76.91 79.25 73.41 77.18 72.56 69.65 73.04 71.65 76.23 79.   79.15\n",
      " 69.42 76.16 70.69 73.5  80.73 68.59 76.54 65.69 76.06 68.52 75.65 76.18\n",
      " 71.3  70.63 82.98 76.43 81.86 82.61]\n",
      "\n",
      "standard deviatio of score of each student:  [15.63 15.51 15.94 12.07 15.77 15.05 11.16 15.94 12.73 12.69 13.22 16.35\n",
      " 10.03 15.62 12.73 12.05  9.72 15.47 12.83  8.28 13.9  13.5  13.12 14.27\n",
      " 16.19 17.71 14.07 16.34 13.92 13.18]\n",
      "student who perform well\n",
      "\n",
      "student who need help \n",
      "\n"
     ]
    }
   ],
   "source": [
    "import numpy as np\n",
    "\n",
    "# Create the exam_scores array (30 students, 10 exams)\n",
    "num_students = 30\n",
    "num_exams = 10\n",
    "\n",
    "# Populate the exam_scores array with random scores between 50 and 100\n",
    "np.set_printoptions(precision=2)\n",
    "\n",
    "exam_scores=np.random.uniform(50,100.01,size=(30,10))\n",
    "# 1. Calculate the average score for each student over the 10 exams\n",
    "print(\"aeverage score of each student: \",np.average(exam_scores,axis=1))\n",
    "# 2. Calculate the standard deviation of scores for each student\n",
    "print(\"\\nstandard deviatio of score of each student: \",np.std(exam_scores,axis=1))\n",
    "\n",
    "# 3. Identify students who have consistently performed well (average score > 85)\n",
    "print(\"student who perform well\\n\")\n",
    "average_score=np.average(exam_scores,axis=1)\n",
    "for i in range(30):\n",
    "     if(average_score[i]>85):\n",
    "        print(\"student number \",i)\n",
    "    \n",
    "\n",
    "# 4. Identify students who may need additional support (average score < 60)\n",
    "\n",
    "print(\"student who need help \\n\")\n",
    "average_score=np.average(exam_scores,axis=1)\n",
    "for i in range(30):\n",
    "     if(average_score[i]<60):\n",
    "        print(\"student number \",i)"
   ]
  },
  {
   "cell_type": "code",
   "execution_count": null,
   "metadata": {},
   "outputs": [],
   "source": []
  }
 ],
 "metadata": {
  "colab": {
   "provenance": []
  },
  "kernelspec": {
   "display_name": "Python 3 (ipykernel)",
   "language": "python",
   "name": "python3"
  },
  "language_info": {
   "codemirror_mode": {
    "name": "ipython",
    "version": 3
   },
   "file_extension": ".py",
   "mimetype": "text/x-python",
   "name": "python",
   "nbconvert_exporter": "python",
   "pygments_lexer": "ipython3",
   "version": "3.12.4"
  }
 },
 "nbformat": 4,
 "nbformat_minor": 4
}
