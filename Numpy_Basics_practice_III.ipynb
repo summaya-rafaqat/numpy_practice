{
 "cells": [
  {
   "cell_type": "code",
   "execution_count": 1,
   "id": "2a8a0fa8-ceee-4b65-9739-39bdbf33d23c",
   "metadata": {
    "id": "2a8a0fa8-ceee-4b65-9739-39bdbf33d23c"
   },
   "outputs": [],
   "source": [
    "import numpy as np"
   ]
  },
  {
   "cell_type": "markdown",
   "id": "6cd94836-36bf-4eca-a68c-4d4afb52ef7d",
   "metadata": {
    "id": "6cd94836-36bf-4eca-a68c-4d4afb52ef7d"
   },
   "source": [
    "# Q1"
   ]
  },
  {
   "cell_type": "markdown",
   "id": "26a82645-942a-40ba-9d5b-a58c65d27817",
   "metadata": {
    "id": "26a82645-942a-40ba-9d5b-a58c65d27817"
   },
   "source": [
    "Statement: Given a 3D NumPy array arr of shape (2, 3, 4), write a code snippet to calculate the sum of all elements in the array.\n",
    "\n",
    "Sample Input:"
   ]
  },
  {
   "cell_type": "code",
   "execution_count": 65,
   "id": "dbf71bf2-1ac9-48f3-96fb-5f22ad767b29",
   "metadata": {
    "id": "dbf71bf2-1ac9-48f3-96fb-5f22ad767b29"
   },
   "outputs": [
    {
     "name": "stdout",
     "output_type": "stream",
     "text": [
      "[[[12 17 11  0]\n",
      "  [ 7 19 11 12]\n",
      "  [ 4 10 19  9]]\n",
      "\n",
      " [[ 4  0 19  1]\n",
      "  [ 5 18  3 10]\n",
      "  [ 0 10 19  1]]]\n",
      "\n",
      " sum:  221\n"
     ]
    }
   ],
   "source": [
    "# Answer Here\n",
    "\n",
    "import numpy as np\n",
    "a= np.random.randint(20,size=(2,3,4))\n",
    "print(a)\n",
    "\n",
    "print(\"\\n sum: \",np.sum(a))"
   ]
  },
  {
   "cell_type": "markdown",
   "id": "14bd52a2-86d8-4ef6-b1ee-de66e9703458",
   "metadata": {
    "id": "14bd52a2-86d8-4ef6-b1ee-de66e9703458"
   },
   "source": [
    "# Q2"
   ]
  },
  {
   "cell_type": "markdown",
   "id": "9a536e77-25c6-4b63-906b-7aa8eaaa073e",
   "metadata": {
    "id": "9a536e77-25c6-4b63-906b-7aa8eaaa073e"
   },
   "source": [
    "Statement: Write a NumPy code snippet to create a 4D array arr of shape (2, 3, 4, 5) filled with random integers ranging from 0 to 9.\n",
    "\n",
    "Sample Output:"
   ]
  },
  {
   "cell_type": "code",
   "execution_count": 194,
   "id": "5602b3f2-13e2-4585-9870-9bc07563c60e",
   "metadata": {
    "id": "5602b3f2-13e2-4585-9870-9bc07563c60e"
   },
   "outputs": [
    {
     "name": "stdout",
     "output_type": "stream",
     "text": [
      "[[[[4 2 2 6 0]\n",
      "   [0 3 8 5 8]\n",
      "   [7 3 1 1 5]\n",
      "   [2 7 4 9 3]]\n",
      "\n",
      "  [[6 8 1 7 7]\n",
      "   [6 5 8 6 2]\n",
      "   [2 8 4 6 1]\n",
      "   [8 3 2 7 6]]\n",
      "\n",
      "  [[6 4 3 8 5]\n",
      "   [3 4 4 9 2]\n",
      "   [4 9 7 1 8]\n",
      "   [6 9 2 4 6]]]\n",
      "\n",
      "\n",
      " [[[6 0 1 8 0]\n",
      "   [8 5 6 8 7]\n",
      "   [8 7 4 0 0]\n",
      "   [5 3 0 3 6]]\n",
      "\n",
      "  [[5 7 4 6 1]\n",
      "   [5 6 4 2 2]\n",
      "   [7 4 2 4 9]\n",
      "   [3 9 0 1 1]]\n",
      "\n",
      "  [[6 1 4 4 1]\n",
      "   [8 9 6 6 3]\n",
      "   [6 3 5 0 1]\n",
      "   [1 6 6 1 6]]]]\n"
     ]
    }
   ],
   "source": [
    "# Answer Here\n",
    "a=np.random.randint(0,10,size=(2,3,4,5))\n",
    "print (a)"
   ]
  },
  {
   "cell_type": "markdown",
   "id": "540f8d57-6cc0-4e53-8744-787e868276a4",
   "metadata": {
    "id": "540f8d57-6cc0-4e53-8744-787e868276a4"
   },
   "source": [
    "# Q3"
   ]
  },
  {
   "cell_type": "markdown",
   "id": "37497bad-10e3-4c65-b4f6-65bb5ed0b00d",
   "metadata": {
    "id": "37497bad-10e3-4c65-b4f6-65bb5ed0b00d"
   },
   "source": [
    "Statement: Given a 4D NumPy array arr of shape (2, 3, 4, 5), write a code snippet to calculate the mean along the second axis.\n",
    "\n",
    "Sample Input:"
   ]
  },
  {
   "cell_type": "code",
   "execution_count": 190,
   "id": "84df3761-5341-4010-b541-6a79a1b74625",
   "metadata": {
    "id": "84df3761-5341-4010-b541-6a79a1b74625"
   },
   "outputs": [
    {
     "name": "stdout",
     "output_type": "stream",
     "text": [
      "[[[11.33333333  9.33333333 14.33333333  4.          6.66666667]\n",
      "  [ 9.66666667 13.         12.          3.33333333  9.66666667]\n",
      "  [11.66666667 11.66666667 10.33333333  5.         14.33333333]\n",
      "  [13.66666667 11.          9.66666667 14.66666667  8.33333333]]\n",
      "\n",
      " [[10.66666667 11.33333333  8.33333333  2.          5.        ]\n",
      "  [13.          8.         15.33333333 18.         11.        ]\n",
      "  [10.66666667 17.66666667  8.66666667 11.66666667  7.        ]\n",
      "  [ 6.         13.33333333  9.33333333 12.33333333 10.        ]]]\n"
     ]
    }
   ],
   "source": [
    "# Answer Here\n",
    "a=np.random.randint( 20,size=(2,3,4,5))\n",
    "print(np.mean(a,axis=1))"
   ]
  },
  {
   "cell_type": "markdown",
   "id": "9d4cd387-ca18-4951-a1ab-63a7a1f80a0d",
   "metadata": {
    "id": "9d4cd387-ca18-4951-a1ab-63a7a1f80a0d"
   },
   "source": [
    "# Q4"
   ]
  },
  {
   "cell_type": "markdown",
   "id": "768891f0-dd85-4a6b-a336-31061a30945f",
   "metadata": {
    "id": "768891f0-dd85-4a6b-a336-31061a30945f"
   },
   "source": [
    "Statement: You have collected data from a temperature sensor placed at different locations over a period of time. The recorded temperatures are stored in a 3D NumPy array temps of shape (7, 24, 60), where the dimensions represent the number of days, hours in a day, and minutes in an hour, respectively. Write a code snippet to calculate the average temperature for each day.\n",
    "\n",
    "Sample Input:"
   ]
  },
  {
   "cell_type": "code",
   "execution_count": 128,
   "id": "905df96f-ee7f-410f-adae-88758871af96",
   "metadata": {
    "id": "905df96f-ee7f-410f-adae-88758871af96"
   },
   "outputs": [
    {
     "name": "stdout",
     "output_type": "stream",
     "text": [
      "[4.47847222 4.48541667 4.56388889 4.60208333 4.35555556 4.45486111\n",
      " 4.54930556]\n"
     ]
    }
   ],
   "source": [
    "\n",
    "# Answer Here\n",
    "a=np.random.randint(10,size=(7,24,60))\n",
    "print(np.average(a,axis=(1,2)))"
   ]
  },
  {
   "cell_type": "markdown",
   "id": "f8913844-39a1-4d9b-a434-7af478336f20",
   "metadata": {
    "id": "f8913844-39a1-4d9b-a434-7af478336f20"
   },
   "source": [
    "Sample Output:\n",
    "\n",
    "array([27.43864059, 26.99643944, 27.10398301, 27.43854821, 26.81072977,\n",
    "       26.76581481, 27.07946152])"
   ]
  },
  {
   "cell_type": "markdown",
   "id": "55a224ca-01c9-4b13-8bc9-1db7269a35d5",
   "metadata": {
    "id": "55a224ca-01c9-4b13-8bc9-1db7269a35d5"
   },
   "source": [
    "# Q5"
   ]
  },
  {
   "cell_type": "markdown",
   "id": "af5efd9b-ff4f-4ae1-af9a-da9bf621d3bd",
   "metadata": {
    "id": "af5efd9b-ff4f-4ae1-af9a-da9bf621d3bd"
   },
   "source": [
    "Statement: You have collected data from multiple sensors placed in different rooms of a building. The sensor readings are stored in a 4D NumPy array readings of shape (4, 7, 24, 60), where the dimensions represent the number of sensors, number of days, hours in a day, and minutes in an hour, respectively. Write a code snippet to calculate the maximum reading for each sensor across all days."
   ]
  },
  {
   "cell_type": "code",
   "execution_count": 186,
   "id": "79873e69-35ad-4bde-ba48-cf33218b1dc2",
   "metadata": {
    "id": "79873e69-35ad-4bde-ba48-cf33218b1dc2"
   },
   "outputs": [
    {
     "name": "stdout",
     "output_type": "stream",
     "text": [
      "[[0.99977521 0.99966458 0.99989584 0.99945401 0.99944629 0.9995761\n",
      "  0.99919265]\n",
      " [0.99983667 0.99971137 0.99982637 0.99971479 0.99882469 0.99977986\n",
      "  0.99937376]\n",
      " [0.99978709 0.99969405 0.99964639 0.99988309 0.99952842 0.9995698\n",
      "  0.99984653]\n",
      " [0.99864753 0.99969133 0.99990558 0.99990952 0.99996419 0.99967365\n",
      "  0.99923078]]\n"
     ]
    }
   ],
   "source": [
    "# Answer Here\n",
    "a=np.random.random((4,7,24,60))\n",
    "print(a.max(axis=(2,3)))"
   ]
  },
  {
   "cell_type": "markdown",
   "id": "e8ca2836-0977-4b11-a214-a93630131927",
   "metadata": {
    "id": "e8ca2836-0977-4b11-a214-a93630131927"
   },
   "source": [
    "# Q6"
   ]
  },
  {
   "cell_type": "markdown",
   "id": "b324cb33-b481-4cf8-a148-9292ec382a8c",
   "metadata": {
    "id": "b324cb33-b481-4cf8-a148-9292ec382a8c"
   },
   "source": [
    "Statement: You have collected data from a 3D printer that measures the dimensions of printed objects. The recorded dimensions are stored in a 3D NumPy array dimensions of shape (100, 50, 3), where the dimensions represent the number of printed objects, number of measurements for each object, and the three dimensions (length, width, height), respectively. Write a code snippet to calculate the average length, width, and height across all objects.\n",
    "\n",
    "Sample Inpumt:"
   ]
  },
  {
   "cell_type": "code",
   "execution_count": 158,
   "id": "d1199cf1-5f47-45f5-a090-615021490d8e",
   "metadata": {
    "id": "d1199cf1-5f47-45f5-a090-615021490d8e"
   },
   "outputs": [
    {
     "name": "stdout",
     "output_type": "stream",
     "text": [
      "[0.49680633 0.50275642 0.49206752]\n"
     ]
    }
   ],
   "source": [
    "# Answer Here\n",
    "a=np.random.random(size=(100,50,3))\n",
    "print(np.average(a,axis=(0,1)))\n"
   ]
  },
  {
   "cell_type": "markdown",
   "id": "a3c20cfa-7ad6-437b-8837-1eabded47ac7",
   "metadata": {
    "id": "a3c20cfa-7ad6-437b-8837-1eabded47ac7"
   },
   "source": [
    "# Q7"
   ]
  },
  {
   "cell_type": "markdown",
   "id": "c5c5e835-2d6d-4bec-a700-4125e2ea7375",
   "metadata": {
    "id": "c5c5e835-2d6d-4bec-a700-4125e2ea7375"
   },
   "source": [
    "Statement: You are given a 3D NumPy array data of shape (5, 6, 7) representing the sensor readings from multiple sensors placed in different locations over a period of time. Each sensor provides measurements at different time points. Write a code snippet to calculate the following statistics for each sensor:\n",
    "\n",
    "Total number of measurements\n",
    "\n",
    "Average measurement value\n",
    "\n",
    "Standard deviation of measurements\n",
    "\n",
    "Minimum measurement value\n",
    "\n",
    "Maximum measurement value\n",
    "\n",
    "Sample Input:"
   ]
  },
  {
   "cell_type": "code",
   "execution_count": 184,
   "id": "46256376-8395-460c-a736-71a83252e47f",
   "metadata": {
    "id": "46256376-8395-460c-a736-71a83252e47f"
   },
   "outputs": [
    {
     "name": "stdout",
     "output_type": "stream",
     "text": [
      "tatal values:  42\n",
      "average:  [0.43821812 0.47080076 0.4809009  0.48210605 0.52536879]\n",
      "Standard deviation:  [0.26899606 0.27562117 0.3085292  0.27315903 0.26057084]\n",
      "Minimum measurement:  [0.03595966 0.06411866 0.00295189 0.0177383  0.0528851 ]\n",
      "Maximum measurement:  [0.97205705 0.98578584 0.97401076 0.99633984 0.99427894]\n"
     ]
    }
   ],
   "source": [
    "# Answer Here\n",
    "a=np.random.random((5, 6, 7))\n",
    "print(\"tatal values: \",np.prod(a.shape[1:]))\n",
    "print(\"average: \", np.average(a,axis=(1,2)))\n",
    "print(\"Standard deviation: \",np.std(a,axis=(1,2)))\n",
    "print(\"Minimum measurement: \",np.min(a,axis=(1,2)))\n",
    "print(\"Maximum measurement: \",np.max(a,axis=(1,2)))\n"
   ]
  },
  {
   "cell_type": "code",
   "execution_count": null,
   "id": "87f085a1-fec3-40e5-90db-d535c0de01c0",
   "metadata": {
    "id": "87f085a1-fec3-40e5-90db-d535c0de01c0"
   },
   "outputs": [],
   "source": []
  }
 ],
 "metadata": {
  "colab": {
   "provenance": []
  },
  "kernelspec": {
   "display_name": "Python 3 (ipykernel)",
   "language": "python",
   "name": "python3"
  },
  "language_info": {
   "codemirror_mode": {
    "name": "ipython",
    "version": 3
   },
   "file_extension": ".py",
   "mimetype": "text/x-python",
   "name": "python",
   "nbconvert_exporter": "python",
   "pygments_lexer": "ipython3",
   "version": "3.12.4"
  }
 },
 "nbformat": 4,
 "nbformat_minor": 5
}
