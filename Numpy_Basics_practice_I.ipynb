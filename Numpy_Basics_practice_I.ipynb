{
 "cells": [
  {
   "cell_type": "code",
   "execution_count": null,
   "metadata": {
    "id": "YAvC8k1FKC6i"
   },
   "outputs": [],
   "source": [
    "import numpy as np"
   ]
  },
  {
   "cell_type": "markdown",
   "metadata": {
    "id": "z-ttfWOCWYAD"
   },
   "source": [
    "### Basic Array Creation"
   ]
  },
  {
   "cell_type": "markdown",
   "metadata": {
    "id": "ZksDKlwjHvFV"
   },
   "source": [
    "# Creatation of List\n",
    "How to create Lists in python?"
   ]
  },
  {
   "cell_type": "code",
   "execution_count": 1,
   "metadata": {
    "id": "mCgQsxXkF3nb"
   },
   "outputs": [
    {
     "name": "stdout",
     "output_type": "stream",
     "text": [
      "['apple', 'banana', 'cherry']\n"
     ]
    }
   ],
   "source": [
    "# Answer Here\n",
    "fruits = ['apple', 'banana', 'cherry']\n",
    "print(fruits)"
   ]
  },
  {
   "cell_type": "markdown",
   "metadata": {
    "id": "EUmihvpDIAzW"
   },
   "source": [
    "# Type\n",
    "Accuire type of list in python."
   ]
  },
  {
   "cell_type": "code",
   "execution_count": null,
   "metadata": {
    "id": "Aw_RtHvuRkDi"
   },
   "outputs": [],
   "source": [
    "# Answer Here"
   ]
  },
  {
   "cell_type": "markdown",
   "metadata": {
    "id": "M2TOiuioIc6M"
   },
   "source": [
    "# Creatation of Arrays\n",
    "1.Simple array creation\n",
    "\n",
    "2.Checking array \"TYPE\"\n",
    "\n",
    "3.Numeric \"TYPE\" of array elements\n",
    "\n",
    "4.Array dim\n",
    "\n",
    "5.Array Shape\n",
    "\n",
    "6.Bytes per element\n",
    "\n",
    "7.BYTES OF MEMORY USED, How many bytes for one array element\n",
    "\n",
    "8.Total bytes in an Array"
   ]
  },
  {
   "cell_type": "code",
   "execution_count": null,
   "metadata": {
    "id": "uy_hPIW4A4uM"
   },
   "outputs": [],
   "source": [
    "# Int array\n",
    "# Answer Here"
   ]
  },
  {
   "cell_type": "code",
   "execution_count": null,
   "metadata": {
    "id": "tf9pmYpYLuEu"
   },
   "outputs": [],
   "source": [
    "# Decimal array\n",
    "#Answer Here"
   ]
  },
  {
   "cell_type": "markdown",
   "metadata": {
    "id": "czi-ntWzFJ0M"
   },
   "source": [
    "9.Try to assign a float into an int32\n",
    "\n",
    "10.Use .fill function # fill has the same behavior\n"
   ]
  },
  {
   "cell_type": "code",
   "execution_count": null,
   "metadata": {
    "id": "5r2iCLhHFq_-"
   },
   "outputs": [],
   "source": [
    "# Answer here"
   ]
  },
  {
   "cell_type": "markdown",
   "metadata": {
    "id": "UK4-Grt0F8_k"
   },
   "source": [
    "11.Add two  arrays\n",
    "\n",
    "12.Multiple both arrays\n",
    "\n",
    "13.Use ** operator in array operation\n",
    "\n",
    "14.Create array from 0.0 to 11.0\n",
    "\n",
    "15.Multiply entire array with a scalar value\n",
    " c = (2.0 * np.pi)\n",
    "\n",
    "16.Use np.arrange function to create an array with step of 0.5 from 1.0 to 3.0"
   ]
  },
  {
   "cell_type": "code",
   "execution_count": null,
   "metadata": {
    "id": "1cRgGYTdGayU"
   },
   "outputs": [],
   "source": [
    "# Answer Here"
   ]
  },
  {
   "cell_type": "markdown",
   "metadata": {
    "id": "60fA9aHmI0g_"
   },
   "source": [
    "# Slicing\n",
    "var[lower:upper:step]\n",
    "• Extracts a portion of a sequence by specifying a lower and upper bound.\n",
    "\n",
    "• The lower-bound element is included, but the upper-bound element is not included.\n",
    "\n",
    "• Mathematically: [lower, upper). The step value specifies the stride between elements.\n",
    "\n",
    "1. Etract array indices from 1 to 3:\n",
    "2. Use negative indices as well\n",
    "3. Omitted boundaries are assumed to be the beginning (or end) of the array grab first three elements\n",
    "4. Grab last two elements\n",
    "5. Grab every other element\n",
    "6. slicing the last two elements returns the data there\n",
    "7. Can we insert an iterable of length two? or a scalar value\n",
    "8.Arrays created by slicing share data with the originating array. Changing values in a slice also changes the original array.\n",
    "For example create a slice containing two elements of a changing b changed a! Have an experiment\n",
    "9. if an array a = [[0, 1, 2, 3, 4],[1, 2, 3, 4, 5]] extract values from row 3 to onward and from col 0, 2 and 5\n",
    "10. Perform some masking on a = np.arange(0,36).reshape(6,6)\n",
    "with mask = np.array([1, 0, 1, 0, 0, 1])\n"
   ]
  },
  {
   "cell_type": "code",
   "execution_count": null,
   "metadata": {
    "id": "CVqexfEBMB-w"
   },
   "outputs": [],
   "source": [
    "# Answer Here"
   ]
  },
  {
   "cell_type": "markdown",
   "metadata": {
    "id": "WSHrRcoQN0Mu"
   },
   "source": [
    "# Array Functions\n",
    "1.Arange([start,] stop[, step],dtype=None)\n",
    "Nearly identical to Python’s range(). Creates an array of values in the range [start,stop) with the specified step value. Allows non-integer values for start, stop, and step. Default dtype is derived from the start, stop, and step values. create an array with arange.\n",
    "\n",
    "2.Create arrays with ONES, ZEROS, shape is a number or sequence specifying the dimensions of the array. If dtype is not specified, it defaults to float64.\n",
    "\n",
    "3.Generate an n by n identity array. The default dtype is float64.\n",
    "\n",
    "4.use empty, full, and fill, max, min, std, mean, var, argmax, linspace\n",
    "\n",
    "5.\n",
    "\n",
    "  Rule 1:\n",
    "  Operations between multiple array objects are first checked for proper shape match.\n",
    "\n",
    "  Rule 2:\n",
    "  Mathematical operators (+ - * / exp, log, ...) apply element by element, on the values.\n",
    "\n",
    "  Rule 3:\n",
    "  Reduction operations (mean, std, skew, kurt, sum, prod, ...) apply to the whole array, unless an axis is specified.\n",
    "\n",
    "  Rule 4:\n",
    "  Missing values propagate unless explicitly ignored (nanmean, nansum, ...).\n",
    "\n",
    "6.\n",
    "Create the array below with\n",
    "                  a = np.arange(-15, 15).reshape(5, 6) ** 2\n",
    "1. The maximum of each row\n",
    "2. The mean of each column\n",
    "3. The position of the overall minimum\n"
   ]
  },
  {
   "cell_type": "code",
   "execution_count": null,
   "metadata": {
    "id": "-JEUK-2BU_L2"
   },
   "outputs": [],
   "source": [
    "# Answer Here"
   ]
  },
  {
   "cell_type": "markdown",
   "metadata": {
    "id": "uO-B0OXYWl7A"
   },
   "source": [
    "### Zip Operations on Numpy Arrays\n",
    "Use a zip function on two arrys.\n",
    "\n",
    "Create another array which would be the sum of corresponding elements of two arrays using for loop."
   ]
  },
  {
   "cell_type": "code",
   "execution_count": null,
   "metadata": {
    "id": "QWAhbiOXHEc9"
   },
   "outputs": [],
   "source": [
    "a = [1, 2, 3, 4]\n",
    "b = [2, 3, 4, 5]\n",
    "\n",
    "# Answer Here"
   ]
  },
  {
   "cell_type": "code",
   "execution_count": null,
   "metadata": {
    "id": "ePXox_XHMQTr"
   },
   "outputs": [],
   "source": [
    "#For loop to add corresponding elements in two lists\n",
    "\n",
    "# Answer Here"
   ]
  }
 ],
 "metadata": {
  "colab": {
   "provenance": []
  },
  "kernelspec": {
   "display_name": "Python 3 (ipykernel)",
   "language": "python",
   "name": "python3"
  },
  "language_info": {
   "codemirror_mode": {
    "name": "ipython",
    "version": 3
   },
   "file_extension": ".py",
   "mimetype": "text/x-python",
   "name": "python",
   "nbconvert_exporter": "python",
   "pygments_lexer": "ipython3",
   "version": "3.12.4"
  }
 },
 "nbformat": 4,
 "nbformat_minor": 4
}
