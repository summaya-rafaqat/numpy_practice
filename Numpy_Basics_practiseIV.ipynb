{
 "cells": [
  {
   "cell_type": "code",
   "execution_count": 1,
   "metadata": {
    "id": "qQxFQvrEEKqm"
   },
   "outputs": [],
   "source": [
    "import numpy as np"
   ]
  },
  {
   "cell_type": "code",
   "execution_count": 3,
   "metadata": {
    "colab": {
     "base_uri": "https://localhost:8080/"
    },
    "id": "n_ncJAFDEbs1",
    "outputId": "a09be9aa-5efa-45c6-b212-e9ebec9db71a"
   },
   "outputs": [
    {
     "ename": "ModuleNotFoundError",
     "evalue": "No module named 'google.colab'",
     "output_type": "error",
     "traceback": [
      "\u001b[1;31m---------------------------------------------------------------------------\u001b[0m",
      "\u001b[1;31mModuleNotFoundError\u001b[0m                       Traceback (most recent call last)",
      "Cell \u001b[1;32mIn[3], line 1\u001b[0m\n\u001b[1;32m----> 1\u001b[0m \u001b[38;5;28;01mfrom\u001b[39;00m \u001b[38;5;21;01mgoogle\u001b[39;00m\u001b[38;5;21;01m.\u001b[39;00m\u001b[38;5;21;01mcolab\u001b[39;00m \u001b[38;5;28;01mimport\u001b[39;00m drive\n\u001b[0;32m      2\u001b[0m drive\u001b[38;5;241m.\u001b[39mmount(\u001b[38;5;124m'\u001b[39m\u001b[38;5;124m/content/drive\u001b[39m\u001b[38;5;124m'\u001b[39m)\n",
      "\u001b[1;31mModuleNotFoundError\u001b[0m: No module named 'google.colab'"
     ]
    }
   ],
   "source": [
    "from google.colab import drive\n",
    "drive.mount('/content/drive')"
   ]
  },
  {
   "cell_type": "markdown",
   "metadata": {
    "id": "5dL78wl-ElhS"
   },
   "source": [
    "# Q.1\n",
    "**Statement:** You are working with a retail store that needs to manage its inventory efficiently. They have provided you with a dataset containing information about products, their quantities in stock, and the number of units sold daily for the past week. Total number of products are 5. Your task is to calculate the following:\n",
    "\n",
    "\n",
    "\n",
    "1.The total sales for each product over the past week.\n",
    "\n",
    "2.The average daily sales for each product.\n",
    "\n",
    "3.The product with the highest sales.\n",
    "\n",
    "4.The product with the lowest sales.\n",
    "\n",
    "5.The total sales for all products combined.\n",
    "\n",
    "You are required to use NumPy for efficient data processing and calculations. Write code to solve this inventory management problem."
   ]
  },
  {
   "cell_type": "code",
   "execution_count": 23,
   "metadata": {
    "id": "DxtXsLXRVpdW"
   },
   "outputs": [
    {
     "name": "stdout",
     "output_type": "stream",
     "text": [
      "total sales:  [175  72 205 204 210]\n",
      "average sales:  [25.         10.28571429 29.28571429 29.14285714 30.        ]\n",
      "highest sales is of:  Product E\n",
      "lowest sales is of:  Product B\n",
      "revenue:  866\n"
     ]
    }
   ],
   "source": [
    "import numpy as np\n",
    "\n",
    "# Sample data (replace with your actual data)\n",
    "product_names = np.array(['Product A', 'Product B', 'Product C', 'Product D', 'Product E'])\n",
    "quantities_in_stock = np.array([100, 150, 200, 250, 50])\n",
    "\n",
    "daily_sales_data = np.array([[10, 15, 20, 25, 30, 35, 40],\n",
    "                             [5, 7, 8, 10, 12, 14, 16],\n",
    "                             [15, 20, 25, 30, 35, 40, 40],\n",
    "                             [12, 25, 20, 40, 20, 32, 55],\n",
    "                             [15, 20, 25, 30, 35, 40, 45]])\n",
    "\n",
    "# Calculate total sales revenue for each product over the past week\n",
    "print(\"total sales: \", daily_sales_data.sum(axis=1))\n",
    "\n",
    "# Calculate average daily sales for each product\n",
    "\n",
    "print(\"average sales: \",np.average(daily_sales_data,axis=1))\n",
    "# Find the product with the highest and lowest sales\n",
    "\n",
    "print(\"highest sales is of: \", product_names[np.argmax(np.sum(daily_sales_data,axis=1))])\n",
    "print(\"lowest sales is of: \", product_names[np.argmin(np.sum(daily_sales_data,axis=1))])\n",
    "\n",
    "\n",
    "# Calculate the total sales revenue for all products combined\n",
    "\n",
    "print(\"revenue: \",daily_sales_data.sum())"
   ]
  },
  {
   "cell_type": "markdown",
   "metadata": {
    "id": "ICk1qoQHVwDc"
   },
   "source": [
    "# Q.2\n",
    "**Statement:** Statement: You are working with a manufacturing plant that produces various components. They have provided you with data on the production rates of five different machines over the past month. Your task is to analyze the performance of these machines by calculating the following metrics:\n",
    "\n",
    "1.The total production output for each machine over the past month.\n",
    "\n",
    "2.The average daily production rate for each machine.\n",
    "\n",
    "3.The machine with the highest total production output.\n",
    "\n",
    "4.The machine with the lowest total production output.\n",
    "\n",
    "The overall production efficiency of the plant, which is defined as the ratio of the total production output to the total number of hours worked, and working hour for each day is 2 hours."
   ]
  },
  {
   "cell_type": "markdown",
   "metadata": {
    "id": "Ayc9TG-vff7A"
   },
   "source": [
    "# Q3:\n",
    "\n",
    "**Statment**\n",
    "You are working on a project that involves simulating sensor data for a network of 10 sensors over a period of 15 days. Each sensor collects data once per hour. Your task is to generate a NumPy array named sensor_data to represent this simulated sensor data and perform following statistical analysis on it.\n",
    "\n",
    "Populate the sensor_data array with random floating-point values between 0.0 and 100.0\n",
    "The generated values should represent sensor readings collected once per hour.\n",
    "\n",
    "After generating the sensor_data array, perform the following statistical **calculations:**\n",
    "\n",
    "1.Calculate the mean (average) sensor reading for each sensor over the 15 days.\n",
    "\n",
    "2.Calculate the standard deviation of sensor readings for each sensor.\n",
    "\n",
    "3.Calculate the maximum sensor reading for each sensor.\n",
    "\n",
    "4.Calculate the minimum sensor reading for each sensor.\n",
    "\n",
    "5.Calculate the overall mean sensor reading for all sensors and all days.\n",
    "\n",
    "6.Calculate the overall standard deviation of sensor readings for all sensors an"
   ]
  },
  {
   "cell_type": "code",
   "execution_count": null,
   "metadata": {
    "id": "TWSK9GA1gfz0"
   },
   "outputs": [],
   "source": [
    "import numpy as np\n",
    "\n",
    "# Data Generation Requirements\n",
    "num_sensors = 10\n",
    "num_days = 15\n",
    "hours_per_day = 24\n",
    "shape = (num_sensors, num_days * hours_per_day)\n",
    "\n"
   ]
  },
  {
   "cell_type": "markdown",
   "metadata": {
    "id": "IShr0NSyhcEc"
   },
   "source": [
    "# Q4:\n",
    "\n",
    "**Statement**: You are tasked with analyzing the exam scores of 30 students in a class over a period of 10 exams. The exam scores are represented as a NumPy, where each row corresponds to a different student, and each column represents their score in a specific exam.\n",
    "\n",
    "Populate the exam_scores array with random integer values between 50 and 100 to simulate students' exam performance.\n",
    "\n",
    "After generating the exam_scores array, perform the following tasks:\n",
    "\n",
    "1.Calculate the average score for each student over the 10 exams.\n",
    "\n",
    "2.Calculate the standard deviation of scores for each student.\n",
    "\n",
    "3.Identify students who have consistently performed well, defined as those whose average score is above 85.\n",
    "\n",
    "4.Identify students who may need additional support, defined as those whose average score is below 50.\n",
    "\n",
    "Write code to create and populate the exam_scores array and then perform the specified statistical analysis and performance evaluation tasks on the data.\n",
    "\n",
    "\n",
    "\n"
   ]
  },
  {
   "cell_type": "code",
   "execution_count": null,
   "metadata": {
    "id": "F3p_SMeoiT2o"
   },
   "outputs": [],
   "source": [
    "import numpy as np\n",
    "\n",
    "# Create the exam_scores array (30 students, 10 exams)\n",
    "num_students = 30\n",
    "num_exams = 10\n",
    "\n",
    "# Populate the exam_scores array with random scores between 50 and 100\n",
    "\n",
    "# 1. Calculate the average score for each student over the 10 exams\n",
    "\n",
    "# 2. Calculate the standard deviation of scores for each student\n",
    "\n",
    "# 3. Identify students who have consistently performed well (average score > 85)\n",
    "\n",
    "# 4. Identify students who may need additional support (average score < 60)\n",
    "\n"
   ]
  }
 ],
 "metadata": {
  "colab": {
   "provenance": []
  },
  "kernelspec": {
   "display_name": "Python 3 (ipykernel)",
   "language": "python",
   "name": "python3"
  },
  "language_info": {
   "codemirror_mode": {
    "name": "ipython",
    "version": 3
   },
   "file_extension": ".py",
   "mimetype": "text/x-python",
   "name": "python",
   "nbconvert_exporter": "python",
   "pygments_lexer": "ipython3",
   "version": "3.12.4"
  }
 },
 "nbformat": 4,
 "nbformat_minor": 4
}
